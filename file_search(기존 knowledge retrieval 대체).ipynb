{
 "cells": [
  {
   "cell_type": "code",
   "execution_count": 1,
   "id": "25a8c460-4fa3-4310-b82c-34f912ac281b",
   "metadata": {},
   "outputs": [],
   "source": [
    "# Supported values are: 'code_interpreter', 'function', and 'file_search'.\"라는 오류가 발생합니다. \n",
    "# retrieval를 file_search로 변경한 예제입니다\n",
    "\n",
    "import os\n",
    "os.environ[\"OPENAI_API_KEY\"] = \"sk-\"\n",
    "from openai import OpenAI\n",
    " \n",
    "client = OpenAI()"
   ]
  },
  {
   "cell_type": "code",
   "execution_count": 2,
   "id": "b81e53da-176b-4e73-8359-35b2cb630cb2",
   "metadata": {},
   "outputs": [
    {
     "data": {
      "text/plain": [
       "{'id': 'asst_w0dtLv4QDtBdYhYTtSQEx7A7',\n",
       " 'created_at': 1720762344,\n",
       " 'description': None,\n",
       " 'instructions': '당신은 스마트팜에 대한 전문가입니다. pdf 파일에 기반하여 답변해주세요.',\n",
       " 'metadata': {},\n",
       " 'model': 'gpt-4o',\n",
       " 'name': 'smartfarm',\n",
       " 'object': 'assistant',\n",
       " 'tools': [{'type': 'file_search', 'file_search': None}],\n",
       " 'response_format': 'auto',\n",
       " 'temperature': 1.0,\n",
       " 'tool_resources': {'code_interpreter': None,\n",
       "  'file_search': {'vector_store_ids': []}},\n",
       " 'top_p': 1.0}"
      ]
     },
     "metadata": {},
     "output_type": "display_data"
    }
   ],
   "source": [
    "import json\n",
    "def show_json(obj):\n",
    "  display(json.loads(obj.model_dump_json()))\n",
    "    \n",
    "assistant = client.beta.assistants.create(\n",
    "  name=\"smartfarm\",\n",
    "  instructions=\"당신은 스마트팜에 대한 전문가입니다. pdf 파일에 기반하여 답변해주세요.\",\n",
    "  model=\"gpt-4o\",\n",
    "  tools=[{\"type\": \"file_search\"}]\n",
    ")\n",
    "show_json(assistant)"
   ]
  },
  {
   "cell_type": "code",
   "execution_count": 3,
   "id": "bc83cd00-a74d-42aa-9102-3d5eba644e44",
   "metadata": {},
   "outputs": [
    {
     "name": "stdout",
     "output_type": "stream",
     "text": [
      "failed\n",
      "FileCounts(cancelled=0, completed=0, failed=1, in_progress=0, total=1)\n"
     ]
    },
    {
     "data": {
      "text/plain": [
       "{'id': 'vs_DzoGZpMqZnxyMBkPWcERU9ne',\n",
       " 'created_at': 1720762344,\n",
       " 'file_counts': {'cancelled': 0,\n",
       "  'completed': 0,\n",
       "  'failed': 0,\n",
       "  'in_progress': 0,\n",
       "  'total': 0},\n",
       " 'last_active_at': 1720762344,\n",
       " 'metadata': {},\n",
       " 'name': 'file_store',\n",
       " 'object': 'vector_store',\n",
       " 'status': 'completed',\n",
       " 'usage_bytes': 0,\n",
       " 'expires_after': None,\n",
       " 'expires_at': None}"
      ]
     },
     "metadata": {},
     "output_type": "display_data"
    }
   ],
   "source": [
    "vector_store = client.beta.vector_stores.create(\n",
    "    name=\"file_store\"\n",
    ")\n",
    "\n",
    "# 업로드할 파일 PDF 준비\n",
    "file_paths = [\"d:/스마트팜.pdf\"]\n",
    "file_streams = [open(path, \"rb\") for path in file_paths]\n",
    "\n",
    "# 파일을 업로드하고, vector store에 추가\n",
    "file_batch = client.beta.vector_stores.file_batches.upload_and_poll(\n",
    "  vector_store_id = vector_store.id, files=file_streams,\n",
    ")\n",
    "\n",
    "# 파일의 업로드 상태 확인\n",
    "print(file_batch.status)\n",
    "print(file_batch.file_counts)\n",
    "\n",
    "show_json(vector_store)"
   ]
  },
  {
   "cell_type": "code",
   "execution_count": 4,
   "id": "8358dc6d-e811-4393-842b-1f08c94bde45",
   "metadata": {},
   "outputs": [
    {
     "data": {
      "text/plain": [
       "{'id': 'asst_w0dtLv4QDtBdYhYTtSQEx7A7',\n",
       " 'created_at': 1720762344,\n",
       " 'description': None,\n",
       " 'instructions': '당신은 스마트팜에 대한 전문가입니다. pdf 파일에 기반하여 답변해주세요.',\n",
       " 'metadata': {},\n",
       " 'model': 'gpt-4o',\n",
       " 'name': 'smartfarm',\n",
       " 'object': 'assistant',\n",
       " 'tools': [{'type': 'file_search', 'file_search': None}],\n",
       " 'response_format': 'auto',\n",
       " 'temperature': 1.0,\n",
       " 'tool_resources': {'code_interpreter': None,\n",
       "  'file_search': {'vector_store_ids': ['vs_DzoGZpMqZnxyMBkPWcERU9ne']}},\n",
       " 'top_p': 1.0}"
      ]
     },
     "metadata": {},
     "output_type": "display_data"
    }
   ],
   "source": [
    "# 생성한 vector store를 참조할 수 있도록 업데이트\n",
    "assistant = client.beta.assistants.update(\n",
    "  assistant_id=assistant.id,\n",
    "  tool_resources={\"file_search\": {\"vector_store_ids\": [vector_store.id]}},\n",
    ")\n",
    "show_json(assistant)"
   ]
  },
  {
   "cell_type": "code",
   "execution_count": 5,
   "id": "390e19bf-f2af-418c-8e41-e515befdfb99",
   "metadata": {},
   "outputs": [
    {
     "data": {
      "text/plain": [
       "{'id': 'run_2Zm1Y9aGr3AFJoCb4CPPUgiw',\n",
       " 'assistant_id': 'asst_w0dtLv4QDtBdYhYTtSQEx7A7',\n",
       " 'cancelled_at': None,\n",
       " 'completed_at': 1720762355,\n",
       " 'created_at': 1720762349,\n",
       " 'expires_at': None,\n",
       " 'failed_at': None,\n",
       " 'incomplete_details': None,\n",
       " 'instructions': '당신은 스마트팜에 대한 전문가입니다. pdf 파일에 기반하여 답변해주세요.',\n",
       " 'last_error': None,\n",
       " 'max_completion_tokens': None,\n",
       " 'max_prompt_tokens': None,\n",
       " 'metadata': {},\n",
       " 'model': 'gpt-4o',\n",
       " 'object': 'thread.run',\n",
       " 'parallel_tool_calls': True,\n",
       " 'required_action': None,\n",
       " 'response_format': 'auto',\n",
       " 'started_at': 1720762349,\n",
       " 'status': 'completed',\n",
       " 'thread_id': 'thread_wiJMH0I5svWufT8xxrXgVkrh',\n",
       " 'tool_choice': 'auto',\n",
       " 'tools': [{'type': 'file_search', 'file_search': None}],\n",
       " 'truncation_strategy': {'type': 'auto', 'last_messages': None},\n",
       " 'usage': {'completion_tokens': 326,\n",
       "  'prompt_tokens': 1573,\n",
       "  'total_tokens': 1899},\n",
       " 'temperature': 1.0,\n",
       " 'top_p': 1.0,\n",
       " 'tool_resources': {}}"
      ]
     },
     "metadata": {},
     "output_type": "display_data"
    }
   ],
   "source": [
    "# thread, message, run 생성 및 실행\n",
    "thread = client.beta.threads.create()\n",
    "\n",
    "message = client.beta.threads.messages.create(\n",
    "    thread_id = thread.id,\n",
    "    role = \"user\",\n",
    "    content= \"스마트팜이란?\",\n",
    ")\n",
    "\n",
    "run = client.beta.threads.runs.create_and_poll(\n",
    "    thread_id = thread.id,\n",
    "    assistant_id = assistant.id,\n",
    ")\n",
    "show_json(run)"
   ]
  },
  {
   "cell_type": "code",
   "execution_count": 6,
   "id": "fbda25bc-edb5-4345-b4c2-7fc73ff6254c",
   "metadata": {},
   "outputs": [
    {
     "data": {
      "text/plain": [
       "{'data': [{'id': 'msg_NNzxlayO0fK7GfzFMyluZkTq',\n",
       "   'assistant_id': 'asst_w0dtLv4QDtBdYhYTtSQEx7A7',\n",
       "   'attachments': [],\n",
       "   'completed_at': None,\n",
       "   'content': [{'text': {'annotations': [],\n",
       "      'value': '스마트팜(Smart Farm)이란, 정보통신기술(ICT, Information and Communication Technology)을 농축산업에 융합하여, 작물과 가축의 생육 및 환경 데이터를 실시간으로 모니터링하고 분석하여 최적의 생육 환경을 유지함으로써 생산성과 효율성을 극대화하는 농업 시스템을 말합니다. 스마트팜 시스템은 다음과 같은 요소들을 포함합니다:\\n\\n1. **센서 및 IoT 장치**: 토양 습도, 온도, 조도 등 환경 데이터를 수집하기 위해 다양한 센서와 IoT(Internet of Things) 장치를 활용합니다.\\n2. **빅데이터 분석**: 수집된 데이터를 분석하여 작물 생육 상태를 파악하고, 필요한 조치를 예측하며, 최적의 농업 방식을 제안합니다.\\n3. **자동화 제어 시스템**: 온실이나 재배 시설에서 환경을 자동으로 조절하는 시스템을 통해 온도, 습도, 환기 등을 자동으로 관리합니다.\\n4. **모바일 및 웹 애플리케이션**: 농업인들이 언제 어디서나 스마트폰이나 컴퓨터를 통해 농장의 상태를 확인하고 조치를 취할 수 있도록 지원합니다.\\n\\n이를 통해 농업 생산성을 높이고 자원 사용을 최적화하며, 기후 변화나 해충 등 외부 요인에 대한 대응력을 강화할 수 있습니다.'},\n",
       "     'type': 'text'}],\n",
       "   'created_at': 1720762351,\n",
       "   'incomplete_at': None,\n",
       "   'incomplete_details': None,\n",
       "   'metadata': {},\n",
       "   'object': 'thread.message',\n",
       "   'role': 'assistant',\n",
       "   'run_id': 'run_2Zm1Y9aGr3AFJoCb4CPPUgiw',\n",
       "   'status': None,\n",
       "   'thread_id': 'thread_wiJMH0I5svWufT8xxrXgVkrh'},\n",
       "  {'id': 'msg_R8fJZoDoNqKPD0xT4BMDJxaz',\n",
       "   'assistant_id': None,\n",
       "   'attachments': [],\n",
       "   'completed_at': None,\n",
       "   'content': [{'text': {'annotations': [], 'value': '스마트팜이란?'},\n",
       "     'type': 'text'}],\n",
       "   'created_at': 1720762349,\n",
       "   'incomplete_at': None,\n",
       "   'incomplete_details': None,\n",
       "   'metadata': {},\n",
       "   'object': 'thread.message',\n",
       "   'role': 'user',\n",
       "   'run_id': None,\n",
       "   'status': None,\n",
       "   'thread_id': 'thread_wiJMH0I5svWufT8xxrXgVkrh'}],\n",
       " 'object': 'list',\n",
       " 'first_id': 'msg_NNzxlayO0fK7GfzFMyluZkTq',\n",
       " 'last_id': 'msg_R8fJZoDoNqKPD0xT4BMDJxaz',\n",
       " 'has_more': False}"
      ]
     },
     "metadata": {},
     "output_type": "display_data"
    }
   ],
   "source": [
    "# GPT-4o 답변 출력\n",
    "if run.status == 'completed':\n",
    "  messages = client.beta.threads.messages.list(\n",
    "    thread_id=thread.id\n",
    "  )\n",
    "  show_json(messages)\n",
    "  #print_message(thread.id)\n",
    "else:\n",
    "  print(run.status)"
   ]
  },
  {
   "cell_type": "code",
   "execution_count": null,
   "id": "97864a20-0086-4520-a21f-e2584c9e7e7e",
   "metadata": {},
   "outputs": [],
   "source": []
  }
 ],
 "metadata": {
  "kernelspec": {
   "display_name": "llm",
   "language": "python",
   "name": "llm"
  },
  "language_info": {
   "codemirror_mode": {
    "name": "ipython",
    "version": 3
   },
   "file_extension": ".py",
   "mimetype": "text/x-python",
   "name": "python",
   "nbconvert_exporter": "python",
   "pygments_lexer": "ipython3",
   "version": "3.8.18"
  }
 },
 "nbformat": 4,
 "nbformat_minor": 5
}
