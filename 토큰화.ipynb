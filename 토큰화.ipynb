{
 "cells": [
  {
   "cell_type": "code",
   "execution_count": 16,
   "id": "4c9cda78",
   "metadata": {},
   "outputs": [],
   "source": [
    "#데이터 전처리"
   ]
  },
  {
   "cell_type": "code",
   "execution_count": 15,
   "id": "88ac72a1",
   "metadata": {},
   "outputs": [
    {
     "name": "stdout",
     "output_type": "stream",
     "text": [
      "Original Text:\n",
      "토큰화(Tokenization)는 문자열을 작은 단위, 즉 '토큰(Token)'으로 분리하는 과정입니다.@#\n",
      "\n",
      "Cleaned Text after Removing Special Characters and Punctuation:\n",
      "토큰화Tokenization는 문자열을 작은 단위 즉 토큰Token으로 분리하는 과정입니다\n"
     ]
    }
   ],
   "source": [
    "import string\n",
    "\n",
    "# 특수 문자와 구두점이 포함된 예제 텍스트\n",
    "text = \"토큰화(Tokenization)는 문자열을 작은 단위, 즉 '토큰(Token)'으로 분리하는 과정입니다.@#\"\n",
    "\n",
    "# 특수 문자 및 구두점 제거\n",
    "cleaned_text = text.translate(str.maketrans('', '', string.punctuation))\n",
    "\n",
    "print(\"Original Text:\")\n",
    "print(text)\n",
    "\n",
    "print(\"\\nCleaned Text after Removing Special Characters and Punctuation:\")\n",
    "print(cleaned_text)"
   ]
  },
  {
   "cell_type": "code",
   "execution_count": 3,
   "id": "9a7d0c0e",
   "metadata": {},
   "outputs": [
    {
     "name": "stdout",
     "output_type": "stream",
     "text": [
      "Original Text:\n",
      "NLP is very helpful for Everyone.\n",
      "\n",
      "Lowercase Text:\n",
      "nlp is very helpful for everyone.\n"
     ]
    }
   ],
   "source": [
    "# 대소문자가 혼합된 예제 텍스트\n",
    "text = \"NLP is very helpful for Everyone.\"\n",
    "\n",
    "# 텍스트를 소문자로 변환\n",
    "lowercase_text = text.lower()\n",
    "\n",
    "print(\"Original Text:\")\n",
    "print(text)\n",
    "\n",
    "print(\"\\nLowercase Text:\")\n",
    "print(lowercase_text)"
   ]
  },
  {
   "cell_type": "code",
   "execution_count": 8,
   "id": "52d7f9b9",
   "metadata": {},
   "outputs": [
    {
     "name": "stdout",
     "output_type": "stream",
     "text": [
      "Original Text:\n",
      "I can't believe it's so hot today. Let's go to the park.\n",
      "\n",
      "Expanded Text with Contractions:\n",
      "I cannot believe it is so hot today. Let's go to the park.\n"
     ]
    }
   ],
   "source": [
    "# 축약형이 포함된 예시 텍스트\n",
    "text = \"I can't believe it's so hot today. Let's go to the park.\"\n",
    "\n",
    "# 축약 및 확장 형태 사전\n",
    "contractions_dict = {\n",
    "    \"can't\": \"cannot\",\n",
    "    \"it's\": \"it is\",\n",
    "    \"let's\": \"let us\"\n",
    "}\n",
    "\n",
    "# 텍스트를 단어로 토큰화\n",
    "words = text.split()\n",
    "\n",
    "# 축약을 확장\n",
    "expanded_text = [contractions_dict[word] if word in contractions_dict else word for word in words]\n",
    "\n",
    "expanded_text = ' '.join(expanded_text)\n",
    "\n",
    "print(\"Original Text:\")\n",
    "print(text)\n",
    "\n",
    "print(\"\\nExpanded Text with Contractions:\")\n",
    "print(expanded_text)"
   ]
  },
  {
   "cell_type": "code",
   "execution_count": 10,
   "id": "abcc5a3a",
   "metadata": {},
   "outputs": [
    {
     "name": "stdout",
     "output_type": "stream",
     "text": [
      "Collecting textblob\n",
      "  Downloading textblob-0.18.0.post0-py3-none-any.whl.metadata (4.5 kB)\n",
      "Requirement already satisfied: nltk>=3.8 in e:\\anaconda3\\envs\\llm\\lib\\site-packages (from textblob) (3.8.1)\n",
      "Requirement already satisfied: click in e:\\anaconda3\\envs\\llm\\lib\\site-packages (from nltk>=3.8->textblob) (8.1.7)\n",
      "Requirement already satisfied: joblib in e:\\anaconda3\\envs\\llm\\lib\\site-packages (from nltk>=3.8->textblob) (1.3.2)\n",
      "Requirement already satisfied: regex>=2021.8.3 in e:\\anaconda3\\envs\\llm\\lib\\site-packages (from nltk>=3.8->textblob) (2023.12.25)\n",
      "Requirement already satisfied: tqdm in e:\\anaconda3\\envs\\llm\\lib\\site-packages (from nltk>=3.8->textblob) (4.65.0)\n",
      "Requirement already satisfied: colorama in e:\\anaconda3\\envs\\llm\\lib\\site-packages (from click->nltk>=3.8->textblob) (0.4.6)\n",
      "Downloading textblob-0.18.0.post0-py3-none-any.whl (626 kB)\n",
      "   ---------------------------------------- 0.0/626.3 kB ? eta -:--:--\n",
      "   --------------------------------------  624.6/626.3 kB 19.8 MB/s eta 0:00:01\n",
      "   ---------------------------------------- 626.3/626.3 kB 7.9 MB/s eta 0:00:00\n",
      "Installing collected packages: textblob\n",
      "Successfully installed textblob-0.18.0.post0\n"
     ]
    },
    {
     "name": "stderr",
     "output_type": "stream",
     "text": [
      "WARNING: Ignoring invalid distribution -pype1 (c:\\users\\jyseo\\appdata\\roaming\\python\\python38\\site-packages)\n",
      "WARNING: Ignoring invalid distribution -pype1 (c:\\users\\jyseo\\appdata\\roaming\\python\\python38\\site-packages)\n",
      "WARNING: Ignoring invalid distribution -pype1 (c:\\users\\jyseo\\appdata\\roaming\\python\\python38\\site-packages)\n",
      "WARNING: Ignoring invalid distribution -pype1 (c:\\users\\jyseo\\appdata\\roaming\\python\\python38\\site-packages)\n",
      "WARNING: Ignoring invalid distribution -pype1 (c:\\users\\jyseo\\appdata\\roaming\\python\\python38\\site-packages)\n",
      "WARNING: Ignoring invalid distribution -pype1 (c:\\users\\jyseo\\appdata\\roaming\\python\\python38\\site-packages)\n"
     ]
    }
   ],
   "source": [
    "!pip install textblob"
   ]
  },
  {
   "cell_type": "code",
   "execution_count": 12,
   "id": "fa3c154c",
   "metadata": {},
   "outputs": [
    {
     "name": "stdout",
     "output_type": "stream",
     "text": [
      "Original Text:\n",
      "Today is Tursday.\n",
      "\n",
      "Corrected Text with Spelling Mistakes Fixed:\n",
      "Today is Thursday.\n"
     ]
    }
   ],
   "source": [
    "from textblob import TextBlob\n",
    "\n",
    "# 철자 오류가 있는 예제 텍스트\n",
    "text = \"Today is Tursday.\"\n",
    "\n",
    "# TextBlob 개체 만들기\n",
    "blob = TextBlob(text)\n",
    "\n",
    "# 철자 오류 수정\n",
    "corrected_text = str(blob.correct())\n",
    "\n",
    "print(\"Original Text:\")\n",
    "print(text)\n",
    "\n",
    "print(\"\\nCorrected Text with Spelling Mistakes Fixed:\")\n",
    "print(corrected_text)"
   ]
  },
  {
   "cell_type": "code",
   "execution_count": 13,
   "id": "aeaacafc",
   "metadata": {},
   "outputs": [],
   "source": [
    "#톤큰화 예제"
   ]
  },
  {
   "cell_type": "code",
   "execution_count": 14,
   "id": "975e5f19",
   "metadata": {},
   "outputs": [
    {
     "name": "stdout",
     "output_type": "stream",
     "text": [
      "Original Text:\n",
      "토큰화(Tokenization)는 문자열을 작은 단위, 즉 '토큰(Token)'으로 분리하는 과정입니다.\n",
      "\n",
      "Tokenized Words:\n",
      "['토큰화', '(', 'Tokenization', ')', '는', '문자열을', '작은', '단위', ',', '즉', \"'토큰\", '(', 'Token', ')', \"'으로\", '분리하는', '과정입니다', '.']\n",
      "\n",
      "Tokenized Sentences:\n",
      "[\"토큰화(Tokenization)는 문자열을 작은 단위, 즉 '토큰(Token)'으로 분리하는 과정입니다.\"]\n"
     ]
    },
    {
     "name": "stderr",
     "output_type": "stream",
     "text": [
      "[nltk_data] Downloading package punkt to\n",
      "[nltk_data]     C:\\Users\\jyseo\\AppData\\Roaming\\nltk_data...\n",
      "[nltk_data]   Package punkt is already up-to-date!\n"
     ]
    }
   ],
   "source": [
    "import nltk\n",
    "nltk.download('punkt')  \n",
    "# nltk는 \"Natural Language Toolkit\"의 약자로, 자연어 처리(NLP)를 위한 파이썬 패키지입니다. \n",
    "#텍스트 처리, 분류, 토큰화, 어휘 분석, 구문 분석 등 다양한 NLP 작업을 수행할 수 있는 도구와 데이터셋을 제공합니다.\n",
    "\n",
    "from nltk.tokenize import word_tokenize, sent_tokenize\n",
    "\n",
    "# 토큰화할 텍스트 예시\n",
    "text = \"토큰화(Tokenization)는 문자열을 작은 단위, 즉 '토큰(Token)'으로 분리하는 과정입니다.\"\n",
    "\n",
    "# 텍스트를 단어로 토큰화\n",
    "words = word_tokenize(text)\n",
    "\n",
    "# 텍스트를 문장으로 토큰화\n",
    "sentences = sent_tokenize(text)\n",
    "\n",
    "print(\"Original Text:\")\n",
    "print(text)\n",
    "\n",
    "print(\"\\nTokenized Words:\")\n",
    "print(words)\n",
    "\n",
    "print(\"\\nTokenized Sentences:\")\n",
    "print(sentences)"
   ]
  },
  {
   "cell_type": "code",
   "execution_count": null,
   "id": "2a3f142a",
   "metadata": {},
   "outputs": [],
   "source": []
  }
 ],
 "metadata": {
  "kernelspec": {
   "display_name": "openai_f",
   "language": "python",
   "name": "openai"
  },
  "language_info": {
   "codemirror_mode": {
    "name": "ipython",
    "version": 3
   },
   "file_extension": ".py",
   "mimetype": "text/x-python",
   "name": "python",
   "nbconvert_exporter": "python",
   "pygments_lexer": "ipython3",
   "version": "3.8.19"
  }
 },
 "nbformat": 4,
 "nbformat_minor": 5
}
