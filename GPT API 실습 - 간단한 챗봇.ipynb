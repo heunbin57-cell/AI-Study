{
 "cells": [
  {
   "cell_type": "code",
   "execution_count": 3,
   "id": "1cbc3111-7d5b-4316-a52a-cb524c666f8b",
   "metadata": {},
   "outputs": [],
   "source": [
    "from langchain.chat_models import ChatOpenAI\n",
    "chat_model = ChatOpenAI(model=\"gpt-3.5-turbo\", api_key=\"sk-\")"
   ]
  },
  {
   "cell_type": "code",
   "execution_count": 4,
   "id": "d5565441-796f-47c1-afee-2e0a24d01990",
   "metadata": {},
   "outputs": [
    {
     "name": "stdout",
     "output_type": "stream",
     "text": [
      "도전적인 스포츠는?\n",
      "등산, 서핑, 스카이다이빙, 스노우보딩, 록 클라이밍 등이 있습니다. 이러한 활동들은 고도의 체력과 기술을 요구하며 도전적이고 스릴 넘치는 경험을 제공합니다.\n"
     ]
    }
   ],
   "source": [
    "question = \"도전적인 스포츠는?\"\n",
    "answer = chat_model.predict(question).strip()\n",
    "print(question)\n",
    "print(answer)"
   ]
  },
  {
   "cell_type": "code",
   "execution_count": 5,
   "id": "c224a5ca-5070-4b05-9c38-55e01f2554fe",
   "metadata": {},
   "outputs": [
    {
     "name": "stdout",
     "output_type": "stream",
     "text": [
      "스포츠중에서 도전적인 스포츠은/는?\n"
     ]
    }
   ],
   "source": [
    "#매개변수를 이용한 질문을 위해 챗봇용 프롬프트 템플릿 구현\n",
    "from langchain.prompts import PromptTemplate\n",
    "promptTemplate = PromptTemplate.from_template(\n",
    "    \"{context}중에서 {topic}은/는?\"\n",
    "    )\n",
    "\n",
    "#매개변수를 사용하여 프롬프트 템플릿을 지정\n",
    "prompt = promptTemplate.format(\n",
    "    topic=\"도전적인 스포츠\", \n",
    "    context=\"스포츠\")\n",
    "\n",
    "print(prompt)"
   ]
  },
  {
   "cell_type": "code",
   "execution_count": 8,
   "id": "043e0dfb-7cfe-42d4-af28-29945c353d5e",
   "metadata": {},
   "outputs": [
    {
     "name": "stdout",
     "output_type": "stream",
     "text": [
      "{'question': '육체적중에서 도전적인 스포츠은/는?', 'answer': '농구, 축구, 랭구, 테니스, 레슬링, 복싱 등이 도전적인 스포츠로 알려져 있습니다.'}\n",
      "{'question': '정신적중에서 도전적인 스포츠은/는?', 'answer': '등반, 서핑, 스카이다이빙, 랠리 등이 도전적인 스포츠로 알려져 있습니다.'}\n"
     ]
    }
   ],
   "source": [
    "def get_answer(topic, context):\n",
    "    \"\"\"\n",
    "    This function returns the answer to the question \"{context}중에서 {topic}은/는?\"\n",
    "    in dictionary format\n",
    "    \"\"\"\n",
    "    promptTemplate = PromptTemplate.from_template(\n",
    "    \"{context}중에서 {topic}은/는?\"\n",
    "    )\n",
    "    question = promptTemplate.format(\n",
    "        topic=topic, \n",
    "        context=context)\n",
    "    answer = chat_model.predict(question).strip()\n",
    "    return {\"question\": question, \"answer\": answer}\n",
    "\n",
    "print(get_answer(\"도전적인 스포츠\", \"육체적\"))\n",
    "print(get_answer(\"도전적인 스포츠\", \"정신적\"))"
   ]
  },
  {
   "cell_type": "code",
   "execution_count": null,
   "id": "3ace8617-7323-49fd-b975-389d22566f92",
   "metadata": {},
   "outputs": [],
   "source": []
  }
 ],
 "metadata": {
  "kernelspec": {
   "display_name": "openai_f",
   "language": "python",
   "name": "openai"
  },
  "language_info": {
   "codemirror_mode": {
    "name": "ipython",
    "version": 3
   },
   "file_extension": ".py",
   "mimetype": "text/x-python",
   "name": "python",
   "nbconvert_exporter": "python",
   "pygments_lexer": "ipython3",
   "version": "3.8.19"
  }
 },
 "nbformat": 4,
 "nbformat_minor": 5
}
