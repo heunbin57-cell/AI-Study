{
 "cells": [
  {
   "cell_type": "code",
   "execution_count": 6,
   "id": "26bb5f48",
   "metadata": {
    "collapsed": true,
    "jupyter": {
     "outputs_hidden": true
    }
   },
   "outputs": [
    {
     "name": "stdout",
     "output_type": "stream",
     "text": [
      "Requirement already satisfied: openai in e:\\anaconda3\\envs\\llm\\lib\\site-packages (0.28.0)\n",
      "Collecting openai\n",
      "  Downloading openai-1.14.3-py3-none-any.whl.metadata (20 kB)\n",
      "Requirement already satisfied: anyio<5,>=3.5.0 in e:\\anaconda3\\envs\\llm\\lib\\site-packages (from openai) (4.2.0)\n",
      "Requirement already satisfied: distro<2,>=1.7.0 in e:\\anaconda3\\envs\\llm\\lib\\site-packages (from openai) (1.9.0)\n",
      "Requirement already satisfied: httpx<1,>=0.23.0 in e:\\anaconda3\\envs\\llm\\lib\\site-packages (from openai) (0.26.0)\n",
      "Requirement already satisfied: pydantic<3,>=1.9.0 in e:\\anaconda3\\envs\\llm\\lib\\site-packages (from openai) (2.5.3)\n",
      "Requirement already satisfied: sniffio in e:\\anaconda3\\envs\\llm\\lib\\site-packages (from openai) (1.3.0)\n",
      "Requirement already satisfied: tqdm>4 in e:\\anaconda3\\envs\\llm\\lib\\site-packages (from openai) (4.65.0)\n",
      "Collecting typing-extensions<5,>=4.7 (from openai)\n",
      "  Downloading typing_extensions-4.10.0-py3-none-any.whl.metadata (3.0 kB)\n",
      "Requirement already satisfied: idna>=2.8 in e:\\anaconda3\\envs\\llm\\lib\\site-packages (from anyio<5,>=3.5.0->openai) (3.4)\n",
      "Requirement already satisfied: exceptiongroup>=1.0.2 in e:\\anaconda3\\envs\\llm\\lib\\site-packages (from anyio<5,>=3.5.0->openai) (1.2.0)\n",
      "Requirement already satisfied: certifi in e:\\anaconda3\\envs\\llm\\lib\\site-packages (from httpx<1,>=0.23.0->openai) (2023.11.17)\n",
      "Requirement already satisfied: httpcore==1.* in e:\\anaconda3\\envs\\llm\\lib\\site-packages (from httpx<1,>=0.23.0->openai) (1.0.2)\n",
      "Requirement already satisfied: h11<0.15,>=0.13 in e:\\anaconda3\\envs\\llm\\lib\\site-packages (from httpcore==1.*->httpx<1,>=0.23.0->openai) (0.14.0)\n",
      "Requirement already satisfied: annotated-types>=0.4.0 in e:\\anaconda3\\envs\\llm\\lib\\site-packages (from pydantic<3,>=1.9.0->openai) (0.6.0)\n",
      "Requirement already satisfied: pydantic-core==2.14.6 in e:\\anaconda3\\envs\\llm\\lib\\site-packages (from pydantic<3,>=1.9.0->openai) (2.14.6)\n",
      "Requirement already satisfied: colorama in e:\\anaconda3\\envs\\llm\\lib\\site-packages (from tqdm>4->openai) (0.4.6)\n",
      "Downloading openai-1.14.3-py3-none-any.whl (262 kB)\n",
      "   ---------------------------------------- 0.0/262.9 kB ? eta -:--:--\n",
      "   ---------------------------------------- 262.9/262.9 kB 8.1 MB/s eta 0:00:00\n",
      "Downloading typing_extensions-4.10.0-py3-none-any.whl (33 kB)\n",
      "Installing collected packages: typing-extensions, openai\n",
      "  Attempting uninstall: typing-extensions\n",
      "    Found existing installation: typing_extensions 4.5.0\n",
      "    Uninstalling typing_extensions-4.5.0:\n",
      "      Successfully uninstalled typing_extensions-4.5.0\n",
      "  Attempting uninstall: openai\n",
      "    Found existing installation: openai 0.28.0\n",
      "    Uninstalling openai-0.28.0:\n",
      "      Successfully uninstalled openai-0.28.0\n",
      "Successfully installed openai-1.14.3 typing-extensions-4.10.0\n"
     ]
    },
    {
     "name": "stderr",
     "output_type": "stream",
     "text": [
      "WARNING: Ignoring invalid distribution -pype1 (c:\\users\\jyseo\\appdata\\roaming\\python\\python38\\site-packages)\n",
      "WARNING: Ignoring invalid distribution -pype1 (c:\\users\\jyseo\\appdata\\roaming\\python\\python38\\site-packages)\n",
      "WARNING: Ignoring invalid distribution -pype1 (c:\\users\\jyseo\\appdata\\roaming\\python\\python38\\site-packages)\n",
      "    WARNING: Ignoring invalid distribution -pype1 (c:\\users\\jyseo\\appdata\\roaming\\python\\python38\\site-packages)\n",
      "    WARNING: Ignoring invalid distribution -pype1 (c:\\users\\jyseo\\appdata\\roaming\\python\\python38\\site-packages)\n",
      "ERROR: pip's dependency resolver does not currently take into account all the packages that are installed. This behaviour is the source of the following dependency conflicts.\n",
      "chromadb 0.4.21 requires tokenizers>=0.13.2, but you have tokenizers 0.10.3 which is incompatible.\n",
      "tensorflow-intel 2.13.0 requires typing-extensions<4.6.0,>=3.6.6, but you have typing-extensions 4.10.0 which is incompatible.\n",
      "unstructured-client 0.15.1 requires charset-normalizer>=3.2.0, but you have charset-normalizer 2.0.4 which is incompatible.\n",
      "unstructured-client 0.15.1 requires requests>=2.31.0, but you have requests 2.28.1 which is incompatible.\n",
      "WARNING: Ignoring invalid distribution -pype1 (c:\\users\\jyseo\\appdata\\roaming\\python\\python38\\site-packages)\n",
      "WARNING: Ignoring invalid distribution -pype1 (c:\\users\\jyseo\\appdata\\roaming\\python\\python38\\site-packages)\n",
      "WARNING: Ignoring invalid distribution -pype1 (c:\\users\\jyseo\\appdata\\roaming\\python\\python38\\site-packages)\n"
     ]
    }
   ],
   "source": [
    "!pip install openai --upgrade"
   ]
  },
  {
   "cell_type": "code",
   "execution_count": 42,
   "id": "90ad6238",
   "metadata": {},
   "outputs": [],
   "source": [
    "import os\n",
    "import time\n",
    "from openai import OpenAI \n",
    "client = OpenAI(\n",
    "    api_key=\"sk-\")"
   ]
  },
  {
   "cell_type": "code",
   "execution_count": 70,
   "id": "c1043eb4",
   "metadata": {},
   "outputs": [],
   "source": [
    "assistant_name = \"Power Point Generator\"\n",
    "output_file_name = \"e:/Presentation001.pptx\"\n",
    "assistant_instruction = r\"파일을 만들어줘 {} 언제나. 너는 해당 주제의 전문가이자 PowerPoint 작성 전문가야. 배경, 색상, 글꼴 및 스타일은 현대적이고 읽기 쉽게 1-5개 슬라이드로 만들어줘. 콘텐츠를 매력적으로 만들어줘. 또한 파일을 다운로드할 수 있어야해\".format(output_file_name)\n",
    "prompt_user = \"개인 기록을 목표로 등산을 연습하는 사람들을 위한 프레젠테이션을 만들어줘. 유용한 통찰력, 다양한 수준에 대한 교육 계획 및 교육 기간 전, 도중 및 후에 몇 가지 팁이 포함된 프레젠테이션을 만들어줘. 물론 통찰력도 제공해야해\""
   ]
  },
  {
   "cell_type": "code",
   "execution_count": 71,
   "id": "859bc1b6",
   "metadata": {},
   "outputs": [],
   "source": [
    "assistant = client.beta.assistants.create(\n",
    "    name=assistant_name,\n",
    "    instructions=assistant_instruction,\n",
    "    tools=[{\"type\": \"retrieval\"},{\"type\": \"code_interpreter\"}],\n",
    "    model=\"gpt-4-1106-preview\")"
   ]
  },
  {
   "cell_type": "code",
   "execution_count": 72,
   "id": "d6bf79d6",
   "metadata": {},
   "outputs": [],
   "source": [
    "#스레드는 어시스턴트와 사용자 간의 대화 세션\n",
    "#채팅 창에서 대화를 시작하면 스레드가 생성\n",
    "#해당 대화 중에 교환되는 모든 메시지는 동일한 스레드에서 진행\n",
    "thread = client.beta.threads.create()\n",
    "\n",
    "#메시지는 스레드 내의 통신 단위\n",
    "#사용자 쿼리, 명령 또는 사용자와 어시스턴트 간에 교환되는 모든 콘텐츠일 수 있습니다.\n",
    "message = client.beta.threads.messages.create(\n",
    "    thread_id=thread.id,\n",
    "    role=\"user\",\n",
    "    content=prompt_user)"
   ]
  },
  {
   "cell_type": "code",
   "execution_count": 73,
   "id": "7d3f8ae1",
   "metadata": {},
   "outputs": [],
   "source": [
    "#실행은 어시스턴트와의 단일 상호작용을 의미합니다. \n",
    "#실행은 사용자가 대화를 시작(스레드 생성)할 때 시작되고 대화가 끝나면 종료됩니다.\n",
    "run = client.beta.threads.runs.create(\n",
    "  thread_id=thread.id,\n",
    "  assistant_id=assistant.id)"
   ]
  },
  {
   "cell_type": "code",
   "execution_count": 74,
   "id": "17007931",
   "metadata": {},
   "outputs": [
    {
     "name": "stdout",
     "output_type": "stream",
     "text": [
      "queued\n",
      "queued\n",
      "queued\n",
      "queued\n",
      "queued\n",
      "queued\n",
      "queued\n",
      "queued\n",
      "queued\n",
      "queued\n",
      "queued\n",
      "queued\n",
      "queued\n",
      "in_progress\n",
      "in_progress\n",
      "in_progress\n",
      "in_progress\n",
      "in_progress\n",
      "in_progress\n",
      "in_progress\n",
      "in_progress\n",
      "in_progress\n",
      "in_progress\n",
      "in_progress\n",
      "in_progress\n",
      "in_progress\n",
      "in_progress\n",
      "in_progress\n",
      "in_progress\n",
      "in_progress\n"
     ]
    }
   ],
   "source": [
    "timeout = 180\n",
    "interval_time = 5\n",
    "time_taken = 0\n",
    "while time_taken < timeout:\n",
    "    run = client.beta.threads.runs.retrieve(\n",
    "    thread_id=thread.id,\n",
    "    run_id=run.id)\n",
    "\n",
    "    if run.status == 'completed':\n",
    "        break\n",
    "    else:\n",
    "        print(run.status)\n",
    "        time.sleep(interval_time)\n",
    "        time_taken += interval_time\n"
   ]
  },
  {
   "cell_type": "code",
   "execution_count": 77,
   "id": "65720d32",
   "metadata": {},
   "outputs": [],
   "source": [
    "messages = client.beta.threads.messages.list(\n",
    "  thread_id=thread.id)\n",
    "\n",
    "file_path = messages.data[0].content[0].text.annotations[0].file_path.file_id\n",
    "\n",
    "file_name = client.files.with_raw_response.retrieve_content(file_path)"
   ]
  },
  {
   "cell_type": "code",
   "execution_count": 78,
   "id": "a9d2c288",
   "metadata": {},
   "outputs": [],
   "source": [
    "with open(output_file_name, \"wb\") as file:  \n",
    "    file.write(file_name.content) "
   ]
  },
  {
   "cell_type": "code",
   "execution_count": 79,
   "id": "cbbedc40",
   "metadata": {},
   "outputs": [
    {
     "data": {
      "text/plain": [
       "AssistantDeleted(id='asst_OR76SA5UVhldHBebicRYZKjI', deleted=True, object='assistant.deleted')"
      ]
     },
     "execution_count": 79,
     "metadata": {},
     "output_type": "execute_result"
    }
   ],
   "source": [
    "client.files.delete(file_path)\n",
    "client.beta.assistants.delete(assistant.id)"
   ]
  },
  {
   "cell_type": "code",
   "execution_count": null,
   "id": "b142a9ed",
   "metadata": {},
   "outputs": [],
   "source": []
  }
 ],
 "metadata": {
  "kernelspec": {
   "display_name": "openai_f",
   "language": "python",
   "name": "openai"
  },
  "language_info": {
   "codemirror_mode": {
    "name": "ipython",
    "version": 3
   },
   "file_extension": ".py",
   "mimetype": "text/x-python",
   "name": "python",
   "nbconvert_exporter": "python",
   "pygments_lexer": "ipython3",
   "version": "3.8.19"
  }
 },
 "nbformat": 4,
 "nbformat_minor": 5
}
