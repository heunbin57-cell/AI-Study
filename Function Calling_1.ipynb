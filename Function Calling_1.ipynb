{
 "cells": [
  {
   "cell_type": "code",
   "execution_count": 1,
   "id": "ab6a310c",
   "metadata": {},
   "outputs": [],
   "source": [
    "#function call을 사용하지 않았을때"
   ]
  },
  {
   "cell_type": "code",
   "execution_count": 3,
   "id": "565b7f36",
   "metadata": {},
   "outputs": [],
   "source": [
    "import os\n",
    "from openai import OpenAI\n",
    "\n",
    "client = OpenAI(\n",
    "  api_key=\"sk-\"\n",
    ")"
   ]
  },
  {
   "cell_type": "code",
   "execution_count": 4,
   "id": "cfb1022b",
   "metadata": {},
   "outputs": [],
   "source": [
    "student_1_description = \"은수는 한국대학교에서 컴퓨터 공학을 전공하는 2학년 학생이다. 그는 한국인이다. 은수는 programming 기술이 좋고 로봇 동아리에서 활동하고 있다. 그는 졸업후에도 로봇 만드는 회사에서 일하고 싶어한다.\""
   ]
  },
  {
   "cell_type": "code",
   "execution_count": 5,
   "id": "149ff468",
   "metadata": {},
   "outputs": [],
   "source": [
    "# JSON 형식으로 \"student_description\"에서 정보를 추출\n",
    "prompt1 = f'''\n",
    "주어진 텍스트에서 다음 정보를 추출하여 JSON 객체로 반환:\n",
    "\n",
    "이름\n",
    "전공\n",
    "학교\n",
    "학년\n",
    "동아리\n",
    "\n",
    "정보를 추출하기 위한 텍스트 본문은 다음과 같습니다:\n",
    "{student_1_description}\n",
    "'''"
   ]
  },
  {
   "cell_type": "code",
   "execution_count": 6,
   "id": "bcc103e7",
   "metadata": {},
   "outputs": [
    {
     "data": {
      "text/plain": [
       "'{\\n  \"이름\": \"은수\",\\n  \"전공\": \"컴퓨터 공학\",\\n  \"학교\": \"한국대학교\",\\n  \"학년\": \"2학년\",\\n  \"동아리\": \"로봇\"\\n}'"
      ]
     },
     "execution_count": 6,
     "metadata": {},
     "output_type": "execute_result"
    }
   ],
   "source": [
    "openai_response = client.chat.completions.create(\n",
    "    model = 'gpt-4',\n",
    "    messages = [{'role': 'user', 'content': prompt1}]\n",
    ")\n",
    "\n",
    "openai_response.choices[0].message.content"
   ]
  },
  {
   "cell_type": "code",
   "execution_count": 7,
   "id": "4c3498c6",
   "metadata": {},
   "outputs": [
    {
     "data": {
      "text/plain": [
       "{'이름': '은수', '전공': '컴퓨터 공학', '학교': '한국대학교', '학년': '2학년', '동아리': '로봇'}"
      ]
     },
     "execution_count": 7,
     "metadata": {},
     "output_type": "execute_result"
    }
   ],
   "source": [
    "import json\n",
    "\n",
    "# 응답을 JSON 객체로 로드\n",
    "json_response = json.loads(openai_response.choices[0].message.content)\n",
    "json_response"
   ]
  },
  {
   "cell_type": "code",
   "execution_count": 8,
   "id": "e85278c8",
   "metadata": {},
   "outputs": [],
   "source": [
    "student_2_description=\"은철이는 한국 대학교에서 컴퓨터 공학을 전공하는 3학년 학생이다. 그는 미국인이다. 은철이는 하키 동아리에서 활동하고 있다. 그는 졸업후에는 software engineering 분야에서 일하기를 희망한다.\""
   ]
  },
  {
   "cell_type": "code",
   "execution_count": 9,
   "id": "006364c6",
   "metadata": {},
   "outputs": [],
   "source": [
    "prompt2 = f'''\n",
    "주어진 텍스트에서 다음 정보를 추출하여 JSON 객체로 반환해줘:\n",
    "\n",
    "이름\n",
    "전공\n",
    "학교\n",
    "학년\n",
    "동아리\n",
    "\n",
    "\n",
    "정보를 추출하기 위한 텍스트 본문은 다음과 같습니다:\n",
    "{student_2_description}\n",
    "'''"
   ]
  },
  {
   "cell_type": "code",
   "execution_count": 10,
   "id": "317c0ea6",
   "metadata": {},
   "outputs": [
    {
     "data": {
      "text/plain": [
       "{'이름': '은철이', '전공': '컴퓨터 공학', '학교': '한국 대학교', '학년': '3학년', '동아리': '하키 동아리'}"
      ]
     },
     "execution_count": 10,
     "metadata": {},
     "output_type": "execute_result"
    }
   ],
   "source": [
    "openai_response = client.chat.completions.create(\n",
    "    model = 'gpt-4',\n",
    "    messages = [{'role': 'user', 'content': prompt2}]\n",
    ")\n",
    "\n",
    "# 응답을 JSON 객체로 로드\n",
    "json_response = json.loads(openai_response.choices[0].message.content)\n",
    "json_response"
   ]
  },
  {
   "cell_type": "code",
   "execution_count": 11,
   "id": "8fd2ae08",
   "metadata": {},
   "outputs": [],
   "source": [
    "#function call을 사용했을 떄"
   ]
  },
  {
   "cell_type": "code",
   "execution_count": 12,
   "id": "b987bfea",
   "metadata": {},
   "outputs": [],
   "source": [
    "student_custom_functions = [\n",
    "    {\n",
    "        'name': 'extract_student_info',\n",
    "        'description': '정보를 추출하기 위한 텍스트 본문은 다음과 같습니다',\n",
    "        'parameters': {\n",
    "            'type': 'object',\n",
    "            'properties': {\n",
    "                'name': {\n",
    "                    'type': 'string',\n",
    "                    'description': '이름'\n",
    "                },\n",
    "                'major': {\n",
    "                    'type': 'string',\n",
    "                    'description': '전공'\n",
    "                },\n",
    "                'school': {\n",
    "                    'type': 'string',\n",
    "                    'description': '학교'\n",
    "                },\n",
    "                'club': {\n",
    "                    'type': 'string',\n",
    "                    'description': '동아리'\n",
    "                }\n",
    "                \n",
    "            }\n",
    "        }\n",
    "    }\n",
    "]"
   ]
  },
  {
   "cell_type": "code",
   "execution_count": 13,
   "id": "86326c9a",
   "metadata": {},
   "outputs": [
    {
     "name": "stdout",
     "output_type": "stream",
     "text": [
      "{'name': '은수', 'major': '컴퓨터 공학', 'school': '한국대학교', 'club': '로봇 동아리'}\n",
      "{'name': '은철이', 'major': '컴퓨터 공학', 'school': '한국 대학교', 'club': '하키 동아리'}\n"
     ]
    }
   ],
   "source": [
    "student_description = [student_1_description,student_2_description]\n",
    "for i in student_description:\n",
    "    response = client.chat.completions.create(\n",
    "        model = 'gpt-4',\n",
    "        messages = [{'role': 'user', 'content': i}],\n",
    "        functions = student_custom_functions,\n",
    "        function_call = 'auto'\n",
    "    )\n",
    "\n",
    "    # 응답을 JSON 객체로 로드\n",
    "    json_response = json.loads(response.choices[0].message.function_call.arguments)\n",
    "    print(json_response)"
   ]
  },
  {
   "cell_type": "code",
   "execution_count": null,
   "id": "7c4b0238",
   "metadata": {},
   "outputs": [],
   "source": []
  }
 ],
 "metadata": {
  "kernelspec": {
   "display_name": "openai_f",
   "language": "python",
   "name": "openai"
  },
  "language_info": {
   "codemirror_mode": {
    "name": "ipython",
    "version": 3
   },
   "file_extension": ".py",
   "mimetype": "text/x-python",
   "name": "python",
   "nbconvert_exporter": "python",
   "pygments_lexer": "ipython3",
   "version": "3.8.19"
  }
 },
 "nbformat": 4,
 "nbformat_minor": 5
}
