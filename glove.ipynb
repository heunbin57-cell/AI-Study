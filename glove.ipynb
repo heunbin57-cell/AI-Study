{
 "cells": [
  {
   "cell_type": "code",
   "execution_count": 4,
   "id": "638e54ea",
   "metadata": {},
   "outputs": [
    {
     "name": "stdout",
     "output_type": "stream",
     "text": [
      "Similar words to 'baseball':, [('basketball', 0.8613373637199402), ('nba', 0.8525449633598328), ('nfl', 0.8311336040496826), ('football', 0.7990508079528809), ('leagues', 0.7907131910324097)]\n"
     ]
    }
   ],
   "source": [
    "from gensim.models import KeyedVectors\n",
    "\n",
    "# GloVe 벡터 불러오기\n",
    "glove_path = 'e:/data/glove/glove.6B.50d.txt'\n",
    "glove_model = KeyedVectors.load_word2vec_format(glove_path, \n",
    "                binary=False, no_header=True)\n",
    "\n",
    "# 관심 단어\n",
    "word_of_interest = 'baseball'\n",
    "\n",
    "# 관심 단어에 대한 벡터 가져오기\n",
    "vector_of_interest = glove_model[word_of_interest]\n",
    "\n",
    "# 비슷한 단어 찾기\n",
    "similar_words = glove_model.most_similar(word_of_interest, topn=5)\n",
    "\n",
    "print(f\"Similar words to 'baseball':, {similar_words}\") "
   ]
  },
  {
   "cell_type": "code",
   "execution_count": null,
   "id": "8b9f4624",
   "metadata": {},
   "outputs": [],
   "source": []
  }
 ],
 "metadata": {
  "kernelspec": {
   "display_name": "openai_f",
   "language": "python",
   "name": "openai"
  },
  "language_info": {
   "codemirror_mode": {
    "name": "ipython",
    "version": 3
   },
   "file_extension": ".py",
   "mimetype": "text/x-python",
   "name": "python",
   "nbconvert_exporter": "python",
   "pygments_lexer": "ipython3",
   "version": "3.8.19"
  }
 },
 "nbformat": 4,
 "nbformat_minor": 5
}
