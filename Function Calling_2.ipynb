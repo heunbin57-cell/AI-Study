{
 "cells": [
  {
   "cell_type": "code",
   "execution_count": 1,
   "id": "54908202",
   "metadata": {},
   "outputs": [],
   "source": [
    "#function calling을 사용하지 않으면 USA와 Sourth Korea에 대한 답변 format이 달라진다.\n",
    "#첫 번째 응답은 주를 숫자(한 국가의 총 주 수)로 반환하고, 두 번째 응답은 주를 배열(주)로 반환"
   ]
  },
  {
   "cell_type": "code",
   "execution_count": 20,
   "id": "a5de3d5b",
   "metadata": {},
   "outputs": [
    {
     "name": "stdout",
     "output_type": "stream",
     "text": [
      "ChatCompletion(id='chatcmpl-9D3Ux6Ftybn4EAMB7pHWE8RObRhvV', choices=[Choice(finish_reason='stop', index=0, logprobs=None, message=ChatCompletionMessage(content='{\\n  \"인구\": \"331,002,651\",\\n  \"수도\": \"워싱턴 D.C.\",\\n  \"주\": \"50\",\\n  \"미국\": true\\n}', role='assistant', function_call=None, tool_calls=None))], created=1712898739, model='gpt-3.5-turbo-0613', object='chat.completion', system_fingerprint=None, usage=CompletionUsage(completion_tokens=43, prompt_tokens=27, total_tokens=70))\n"
     ]
    },
    {
     "data": {
      "text/plain": [
       "{'인구': '331,002,651', '수도': '워싱턴 D.C.', '주': '50', '미국': True}"
      ]
     },
     "execution_count": 20,
     "metadata": {},
     "output_type": "execute_result"
    }
   ],
   "source": [
    "import os\n",
    "import openai\n",
    "import json\n",
    "from openai import OpenAI\n",
    "\n",
    "client = OpenAI(\n",
    "  api_key=\"sk-\"\n",
    ")\n",
    "\n",
    "prompt = '''\n",
    "인구, 수도, 주, 미국. JSON 객체로 반환\n",
    "'''\n",
    "\n",
    "completion = client.chat.completions.create(\n",
    "    model = \"gpt-3.5-turbo-0613\",\n",
    "    messages = [{'role': 'user', 'content': prompt}],\n",
    "    max_tokens = 1024,\n",
    "    temperature = 0\n",
    ")\n",
    "\n",
    "print(completion)\n",
    "json.loads(completion.choices[0].message.content)"
   ]
  },
  {
   "cell_type": "code",
   "execution_count": 21,
   "id": "5daa60ea",
   "metadata": {},
   "outputs": [],
   "source": [
    "prompt = '''\n",
    "인구, 수도, 주, 대한민국. JSON 객체로 반환\n",
    "'''"
   ]
  },
  {
   "cell_type": "code",
   "execution_count": 22,
   "id": "bf829cc0",
   "metadata": {},
   "outputs": [
    {
     "name": "stdout",
     "output_type": "stream",
     "text": [
      "ChatCompletion(id='chatcmpl-9D3UzPxCOpyMQsL6AHxW27RSqf2AJ', choices=[Choice(finish_reason='stop', index=0, logprobs=None, message=ChatCompletionMessage(content='{\\n  \"인구\": \"51,709,098명\",\\n  \"수도\": \"서울\",\\n  \"주\": \"대한민국\",\\n  \"대한민국\": {\\n    \"인구\": \"51,709,098명\",\\n    \"수도\": \"서울\",\\n    \"주\": \"대한민국\"\\n  }\\n}', role='assistant', function_call=None, tool_calls=None))], created=1712898741, model='gpt-3.5-turbo-0613', object='chat.completion', system_fingerprint=None, usage=CompletionUsage(completion_tokens=84, prompt_tokens=28, total_tokens=112))\n"
     ]
    },
    {
     "data": {
      "text/plain": [
       "{'인구': '51,709,098명',\n",
       " '수도': '서울',\n",
       " '주': '대한민국',\n",
       " '대한민국': {'인구': '51,709,098명', '수도': '서울', '주': '대한민국'}}"
      ]
     },
     "execution_count": 22,
     "metadata": {},
     "output_type": "execute_result"
    }
   ],
   "source": [
    "completion = client.chat.completions.create(\n",
    "    model = \"gpt-3.5-turbo-0613\",\n",
    "    messages = [{'role': 'user', 'content': prompt}],\n",
    "    max_tokens = 1024,\n",
    "    temperature = 0\n",
    ")\n",
    "\n",
    "print(completion)\n",
    "json.loads(completion.choices[0].message.content)"
   ]
  },
  {
   "cell_type": "code",
   "execution_count": 23,
   "id": "7761f853",
   "metadata": {},
   "outputs": [],
   "source": [
    "#첫 번째 쿼리에서는 인구가 정수(331002651)로 반환되고, 두 번째 쿼리에서는 인구가 문자열('32,730,000')로 반환\n",
    "#첫 번째 응답은 주를 숫자(한 국가의 총 주 수)로 반환하고, 두 번째 응답은 주를 배열(주)로 반환\n",
    "#즉, 응답의 불일치가 발생 "
   ]
  },
  {
   "cell_type": "code",
   "execution_count": 24,
   "id": "4d2e3777",
   "metadata": {},
   "outputs": [],
   "source": [
    "test_functions = [\n",
    "    {\n",
    "        'name': 'get_country_details',\n",
    "        'description': 'Get the details of a country',\n",
    "        'parameters': {\n",
    "            'type': 'object',\n",
    "            'properties': {                \n",
    "                'Population': {\n",
    "                    'type': 'integer',\n",
    "                    'description': '인구'\n",
    "                },                \n",
    "                'Capital': {\n",
    "                    'type': 'string',\n",
    "                    'description': '수도'\n",
    "                },\n",
    "                'States': {\n",
    "                    'type': 'string',\n",
    "                    'description': '주'\n",
    "                },\n",
    "            }\n",
    "        }\n",
    "    }\n",
    "]"
   ]
  },
  {
   "cell_type": "code",
   "execution_count": 25,
   "id": "4f4a3b32",
   "metadata": {},
   "outputs": [
    {
     "name": "stdout",
     "output_type": "stream",
     "text": [
      "ChatCompletion(id='chatcmpl-9D3VYYoOYmLVZtxX3wajivlpPoy5x', choices=[Choice(finish_reason='function_call', index=0, logprobs=None, message=ChatCompletionMessage(content=None, role='assistant', function_call=FunctionCall(arguments='{\\n  \"Population\": 331002651,\\n  \"Capital\": \"Washington, D.C.\",\\n  \"States\": \"50\"\\n}', name='get_country_details'), tool_calls=None))], created=1712898776, model='gpt-4-0613', object='chat.completion', system_fingerprint=None, usage=CompletionUsage(completion_tokens=35, prompt_tokens=79, total_tokens=114))\n"
     ]
    }
   ],
   "source": [
    "import openai\n",
    "\n",
    "country = '미국'\n",
    "prompt = f'''\n",
    "Population, Capital, States of {country}.\n",
    "'''\n",
    "\n",
    "completion = client.chat.completions.create(\n",
    "    model = 'gpt-4',\n",
    "    messages = [{\"role\": \"user\", \"content\": prompt}],\n",
    "    functions = test_functions,   # <========add this parameter\n",
    "    function_call = 'auto',     # <========add this parameter\n",
    "    max_tokens = 1024,\n",
    "    temperature = 0\n",
    ")\n",
    "\n",
    "print(completion)"
   ]
  },
  {
   "cell_type": "code",
   "execution_count": 26,
   "id": "323f7be0",
   "metadata": {},
   "outputs": [
    {
     "name": "stdout",
     "output_type": "stream",
     "text": [
      "{'Population': 331002651, 'Capital': 'Washington, D.C.', 'States': '50'}\n"
     ]
    }
   ],
   "source": [
    "import json\n",
    "print(json.loads(completion.choices[0].message.function_call.arguments))"
   ]
  },
  {
   "cell_type": "code",
   "execution_count": 27,
   "id": "f7506da8",
   "metadata": {},
   "outputs": [
    {
     "name": "stdout",
     "output_type": "stream",
     "text": [
      "ChatCompletion(id='chatcmpl-9D3VaMRZzWzlpvS3kC1ZMAaUcK8M4', choices=[Choice(finish_reason='function_call', index=0, logprobs=None, message=ChatCompletionMessage(content=None, role='assistant', function_call=FunctionCall(arguments='{\\n  \"Population\": 51640000,\\n  \"Capital\": \"서울\",\\n  \"States\": \"9도 8특별시 1특별자치시 1특별자치도\"\\n}', name='get_country_details'), tool_calls=None))], created=1712898778, model='gpt-4-0613', object='chat.completion', system_fingerprint=None, usage=CompletionUsage(completion_tokens=60, prompt_tokens=80, total_tokens=140))\n"
     ]
    }
   ],
   "source": [
    "import openai\n",
    "\n",
    "country = '대한민국'\n",
    "prompt = f'''\n",
    "Population, Capital, States of {country}.\n",
    "'''\n",
    "\n",
    "completion = client.chat.completions.create(\n",
    "    model = 'gpt-4',\n",
    "    messages = [{\"role\": \"user\", \"content\": prompt}],\n",
    "    functions = test_functions,   # <========add this parameter\n",
    "    function_call = 'auto',     # <========add this parameter\n",
    "    max_tokens = 1024,\n",
    "    temperature = 0\n",
    ")\n",
    "\n",
    "print(completion)"
   ]
  },
  {
   "cell_type": "code",
   "execution_count": 28,
   "id": "9ea56dcb",
   "metadata": {},
   "outputs": [
    {
     "name": "stdout",
     "output_type": "stream",
     "text": [
      "{'Population': 51640000, 'Capital': '서울', 'States': '9도 8특별시 1특별자치시 1특별자치도'}\n"
     ]
    }
   ],
   "source": [
    "import json\n",
    "print(json.loads(completion.choices[0].message.function_call.arguments))"
   ]
  },
  {
   "cell_type": "code",
   "execution_count": null,
   "id": "8cbf60af",
   "metadata": {},
   "outputs": [],
   "source": []
  }
 ],
 "metadata": {
  "kernelspec": {
   "display_name": "openai_f",
   "language": "python",
   "name": "openai"
  },
  "language_info": {
   "codemirror_mode": {
    "name": "ipython",
    "version": 3
   },
   "file_extension": ".py",
   "mimetype": "text/x-python",
   "name": "python",
   "nbconvert_exporter": "python",
   "pygments_lexer": "ipython3",
   "version": "3.8.19"
  }
 },
 "nbformat": 4,
 "nbformat_minor": 5
}
