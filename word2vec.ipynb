{
 "cells": [
  {
   "cell_type": "code",
   "execution_count": 22,
   "id": "5d738968",
   "metadata": {
    "collapsed": true,
    "jupyter": {
     "outputs_hidden": true
    }
   },
   "outputs": [
    {
     "name": "stdout",
     "output_type": "stream",
     "text": [
      "Collecting gensim"
     ]
    },
    {
     "name": "stderr",
     "output_type": "stream",
     "text": [
      "WARNING: Ignoring invalid distribution -pype1 (c:\\users\\jyseo\\appdata\\roaming\\python\\python38\\site-packages)\n",
      "WARNING: Ignoring invalid distribution -pype1 (c:\\users\\jyseo\\appdata\\roaming\\python\\python38\\site-packages)\n",
      "WARNING: Ignoring invalid distribution -pype1 (c:\\users\\jyseo\\appdata\\roaming\\python\\python38\\site-packages)\n",
      "WARNING: Ignoring invalid distribution -pype1 (c:\\users\\jyseo\\appdata\\roaming\\python\\python38\\site-packages)\n",
      "WARNING: Ignoring invalid distribution -pype1 (c:\\users\\jyseo\\appdata\\roaming\\python\\python38\\site-packages)\n",
      "WARNING: Ignoring invalid distribution -pype1 (c:\\users\\jyseo\\appdata\\roaming\\python\\python38\\site-packages)\n"
     ]
    },
    {
     "name": "stdout",
     "output_type": "stream",
     "text": [
      "\n",
      "  Downloading gensim-4.3.2-cp38-cp38-win_amd64.whl.metadata (8.5 kB)\n",
      "Requirement already satisfied: numpy>=1.18.5 in e:\\anaconda3\\envs\\llm\\lib\\site-packages (from gensim) (1.21.6)\n",
      "Requirement already satisfied: scipy>=1.7.0 in e:\\anaconda3\\envs\\llm\\lib\\site-packages (from gensim) (1.10.1)\n",
      "Collecting smart-open>=1.8.1 (from gensim)\n",
      "  Downloading smart_open-7.0.3-py3-none-any.whl.metadata (23 kB)\n",
      "Requirement already satisfied: wrapt in e:\\anaconda3\\envs\\llm\\lib\\site-packages (from smart-open>=1.8.1->gensim) (1.16.0)\n",
      "Downloading gensim-4.3.2-cp38-cp38-win_amd64.whl (24.0 MB)\n",
      "   ---------------------------------------- 0.0/24.0 MB ? eta -:--:--\n",
      "   - -------------------------------------- 0.6/24.0 MB 13.5 MB/s eta 0:00:02\n",
      "   -- ------------------------------------- 1.4/24.0 MB 12.2 MB/s eta 0:00:02\n",
      "   --- ------------------------------------ 2.1/24.0 MB 12.0 MB/s eta 0:00:02\n",
      "   ---- ----------------------------------- 2.6/24.0 MB 11.9 MB/s eta 0:00:02\n",
      "   ----- ---------------------------------- 3.2/24.0 MB 11.9 MB/s eta 0:00:02\n",
      "   ------ --------------------------------- 3.7/24.0 MB 12.4 MB/s eta 0:00:02\n",
      "   ------- -------------------------------- 4.4/24.0 MB 12.3 MB/s eta 0:00:02\n",
      "   -------- ------------------------------- 5.1/24.0 MB 12.1 MB/s eta 0:00:02\n",
      "   --------- ------------------------------ 5.9/24.0 MB 12.1 MB/s eta 0:00:02\n",
      "   ---------- ----------------------------- 6.6/24.0 MB 12.0 MB/s eta 0:00:02\n",
      "   ------------ --------------------------- 7.3/24.0 MB 11.9 MB/s eta 0:00:02\n",
      "   ------------- -------------------------- 8.0/24.0 MB 11.9 MB/s eta 0:00:02\n",
      "   -------------- ------------------------- 8.8/24.0 MB 11.9 MB/s eta 0:00:02\n",
      "   --------------- ------------------------ 9.5/24.0 MB 11.9 MB/s eta 0:00:02\n",
      "   ---------------- ----------------------- 10.0/24.0 MB 11.8 MB/s eta 0:00:02\n",
      "   ----------------- ---------------------- 10.5/24.0 MB 11.7 MB/s eta 0:00:02\n",
      "   ------------------ --------------------- 11.1/24.0 MB 11.7 MB/s eta 0:00:02\n",
      "   ------------------- -------------------- 11.6/24.0 MB 11.7 MB/s eta 0:00:02\n",
      "   -------------------- ------------------- 12.1/24.0 MB 11.7 MB/s eta 0:00:02\n",
      "   --------------------- ------------------ 12.7/24.0 MB 11.7 MB/s eta 0:00:01\n",
      "   ---------------------- ----------------- 13.2/24.0 MB 11.7 MB/s eta 0:00:01\n",
      "   ---------------------- ----------------- 13.8/24.0 MB 11.7 MB/s eta 0:00:01\n",
      "   ----------------------- ---------------- 14.3/24.0 MB 11.7 MB/s eta 0:00:01\n",
      "   ------------------------- -------------- 15.0/24.0 MB 11.7 MB/s eta 0:00:01\n",
      "   -------------------------- ------------- 15.7/24.0 MB 11.7 MB/s eta 0:00:01\n",
      "   --------------------------- ------------ 16.5/24.0 MB 11.7 MB/s eta 0:00:01\n",
      "   ---------------------------- ----------- 17.2/24.0 MB 11.7 MB/s eta 0:00:01\n",
      "   ----------------------------- ---------- 17.9/24.0 MB 11.7 MB/s eta 0:00:01\n",
      "   ------------------------------ --------- 18.6/24.0 MB 11.7 MB/s eta 0:00:01\n",
      "   -------------------------------- ------- 19.3/24.0 MB 11.7 MB/s eta 0:00:01\n",
      "   -------------------------------- ------- 19.8/24.0 MB 11.7 MB/s eta 0:00:01\n",
      "   --------------------------------- ------ 20.3/24.0 MB 11.7 MB/s eta 0:00:01\n",
      "   ---------------------------------- ----- 20.9/24.0 MB 11.7 MB/s eta 0:00:01\n",
      "   ----------------------------------- ---- 21.4/24.0 MB 11.9 MB/s eta 0:00:01\n",
      "   ------------------------------------ --- 22.0/24.0 MB 11.9 MB/s eta 0:00:01\n",
      "   ------------------------------------- -- 22.7/24.0 MB 11.7 MB/s eta 0:00:01\n",
      "   ---------------------------------------  23.4/24.0 MB 11.7 MB/s eta 0:00:01\n",
      "   ---------------------------------------  24.0/24.0 MB 11.9 MB/s eta 0:00:01\n",
      "   ---------------------------------------  24.0/24.0 MB 11.9 MB/s eta 0:00:01\n",
      "   ---------------------------------------- 24.0/24.0 MB 10.6 MB/s eta 0:00:00\n",
      "Downloading smart_open-7.0.3-py3-none-any.whl (60 kB)\n",
      "   ---------------------------------------- 0.0/61.0 kB ? eta -:--:--\n",
      "   ---------------------------------------- 61.0/61.0 kB 1.6 MB/s eta 0:00:00\n",
      "Installing collected packages: smart-open, gensim\n",
      "Successfully installed gensim-4.3.2 smart-open-7.0.3\n"
     ]
    }
   ],
   "source": [
    "!pip install gensim"
   ]
  },
  {
   "cell_type": "code",
   "execution_count": 47,
   "id": "e0320d96",
   "metadata": {},
   "outputs": [],
   "source": [
    "from gensim.models import word2vec\n",
    "token = [['나는','NLP가', '재미있다'],['다른','사람들도','NLP를', '좋아할까']]\n",
    "embedding = word2vec.Word2Vec(token, window=1, negative=3, min_count=1)\n"
   ]
  },
  {
   "cell_type": "code",
   "execution_count": 48,
   "id": "69aace4e",
   "metadata": {},
   "outputs": [],
   "source": [
    "embedding.save('model') #모델 저장\n",
    "embedding.wv.save_word2vec_format('my.embedding', binary=False) #모델 저장"
   ]
  },
  {
   "cell_type": "code",
   "execution_count": 49,
   "id": "c737c713",
   "metadata": {},
   "outputs": [
    {
     "data": {
      "text/plain": [
       "array([-8.7274835e-03,  2.1301603e-03, -8.7354420e-04, -9.3190884e-03,\n",
       "       -9.4281435e-03, -1.4107180e-03,  4.4324086e-03,  3.7040710e-03,\n",
       "       -6.4986944e-03, -6.8730689e-03, -4.9994136e-03, -2.2868442e-03,\n",
       "       -7.2502876e-03, -9.6033188e-03, -2.7436304e-03, -8.3628418e-03,\n",
       "       -6.0388758e-03, -5.6709289e-03, -2.3441387e-03, -1.7069983e-03,\n",
       "       -8.9569995e-03, -7.3519943e-04,  8.1525063e-03,  7.6904297e-03,\n",
       "       -7.2061159e-03, -3.6668323e-03,  3.1185509e-03, -9.5707225e-03,\n",
       "        1.4764380e-03,  6.5244650e-03,  5.7464195e-03, -8.7630628e-03,\n",
       "       -4.5171450e-03, -8.1401607e-03,  4.5955181e-05,  9.2636319e-03,\n",
       "        5.9733056e-03,  5.0673080e-03,  5.0610616e-03, -3.2429171e-03,\n",
       "        9.5521836e-03, -7.3564244e-03, -7.2703888e-03, -2.2653891e-03,\n",
       "       -7.7856064e-04, -3.2161046e-03, -5.9258699e-04,  7.4888230e-03,\n",
       "       -6.9751980e-04, -1.6249418e-03,  2.7443981e-03, -8.3591007e-03,\n",
       "        7.8558037e-03,  8.5361032e-03, -9.5840879e-03,  2.4462652e-03,\n",
       "        9.9049713e-03, -7.6658037e-03, -6.9669201e-03, -7.7365185e-03,\n",
       "        8.3959224e-03, -6.8133592e-04,  9.1444086e-03, -8.1582209e-03,\n",
       "        3.7430834e-03,  2.6350426e-03,  7.4271200e-04,  2.3276759e-03,\n",
       "       -7.4690939e-03, -9.3583753e-03,  2.3545765e-03,  6.1484552e-03,\n",
       "        7.9856869e-03,  5.7358933e-03, -7.7733753e-04,  8.3061643e-03,\n",
       "       -9.3363142e-03,  3.4061312e-03,  2.6675223e-04,  3.8572431e-03,\n",
       "        7.3857834e-03, -6.7251683e-03,  5.5844807e-03, -9.5222257e-03,\n",
       "       -8.0446003e-04, -8.6887386e-03, -5.0986744e-03,  9.2892265e-03,\n",
       "       -1.8582630e-03,  2.9144264e-03,  9.0712784e-03,  8.9381309e-03,\n",
       "       -8.2084350e-03, -3.0123137e-03,  9.8866057e-03,  5.1044296e-03,\n",
       "       -1.5880871e-03, -8.6920215e-03,  2.9615164e-03, -6.6758990e-03],\n",
       "      dtype=float32)"
      ]
     },
     "execution_count": 49,
     "metadata": {},
     "output_type": "execute_result"
    }
   ],
   "source": [
    "embedding.wv['NLP가']"
   ]
  },
  {
   "cell_type": "code",
   "execution_count": 51,
   "id": "ab63b049",
   "metadata": {},
   "outputs": [
    {
     "data": {
      "text/plain": [
       "[('재미있다', 0.13887986540794373),\n",
       " ('다른', 0.13149003684520721),\n",
       " ('사람들도', 0.0640898048877716),\n",
       " ('나는', 0.01915232092142105),\n",
       " ('NLP를', 0.009391195140779018),\n",
       " ('좋아할까', -0.059876274317502975)]"
      ]
     },
     "execution_count": 51,
     "metadata": {},
     "output_type": "execute_result"
    }
   ],
   "source": [
    "embedding.wv.most_similar('NLP가')"
   ]
  },
  {
   "cell_type": "code",
   "execution_count": null,
   "id": "cb6bc6d2",
   "metadata": {},
   "outputs": [],
   "source": []
  }
 ],
 "metadata": {
  "kernelspec": {
   "display_name": "openai_f",
   "language": "python",
   "name": "openai"
  },
  "language_info": {
   "codemirror_mode": {
    "name": "ipython",
    "version": 3
   },
   "file_extension": ".py",
   "mimetype": "text/x-python",
   "name": "python",
   "nbconvert_exporter": "python",
   "pygments_lexer": "ipython3",
   "version": "3.8.19"
  }
 },
 "nbformat": 4,
 "nbformat_minor": 5
}
