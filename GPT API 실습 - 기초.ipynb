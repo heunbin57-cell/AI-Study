{
 "cells": [
  {
   "cell_type": "code",
   "execution_count": 3,
   "id": "f52279e0",
   "metadata": {},
   "outputs": [
    {
     "name": "stdout",
     "output_type": "stream",
     "text": [
      "Unfortunately, as an AI language model, I do not have access to specific datasets or information about specific customer reviews. However, customer review datasets generally consist of a collection of comments, feedback, or ratings provided by customers about products, services, or experiences\n"
     ]
    }
   ],
   "source": [
    "import openai\n",
    "from openai import OpenAI\n",
    "client = OpenAI(\n",
    "  api_key=\"sk-\"\n",
    ")\n",
    "\n",
    "# 샘플 데이터 탐색 질문\n",
    "question = \"고객 리뷰가 포함된 데이터를 요약해줘?\"\n",
    "\n",
    "response = client.chat.completions.create(\n",
    "  model = \"gpt-4\",\n",
    "  messages= [{'role': 'user', 'content': question}],\n",
    "  max_tokens=50\n",
    ")\n",
    "\n",
    "# 응답 추출 및 프린트\n",
    "print(response.choices[0].message.content)"
   ]
  },
  {
   "cell_type": "code",
   "execution_count": 5,
   "id": "6241d18f",
   "metadata": {},
   "outputs": [
    {
     "name": "stdout",
     "output_type": "stream",
     "text": [
      "You can remove duplicate entries from a pandas DataFrame using the `drop_duplicates` method.\n",
      "\n",
      "Consider the following example,\n",
      "\n",
      "```python\n",
      "import pandas as pd\n",
      "\n",
      "# Create a simple DataFrame with duplicate entries\n",
      "df = pd.DataFrame({\n",
      "  'A': ['foo\n"
     ]
    }
   ],
   "source": [
    "question = \"Pandas DataFrame에서 중복 항목을 제거하는 방법은?\"\n",
    "\n",
    "response = client.chat.completions.create(\n",
    "  model = \"gpt-4\",\n",
    "  messages= [{'role': 'user', 'content': question}],\n",
    "  max_tokens=50\n",
    ")\n",
    "\n",
    "# 응답 추출 및 프린트\n",
    "print(response.choices[0].message.content)"
   ]
  },
  {
   "cell_type": "code",
   "execution_count": 6,
   "id": "d81b0d30",
   "metadata": {},
   "outputs": [
    {
     "name": "stdout",
     "output_type": "stream",
     "text": [
      "As a text-based AI developed by OpenAI, I'm currently unable to generate visuals or bar charts. However, I can guide you through the process.\n",
      "\n",
      "You can use software like Microsoft Excel, Google Sheets or a more specialized data visualization tool like Table\n"
     ]
    }
   ],
   "source": [
    "question = \"지난 1년간의 판매 데이터를 시각화하기 위한 막대 차트를 생성해줘?\"\n",
    "\n",
    "response = client.chat.completions.create(\n",
    "  model = \"gpt-4\",\n",
    "  messages= [{'role': 'user', 'content': question}],\n",
    "  max_tokens=50\n",
    ")\n",
    "print(response.choices[0].message.content)"
   ]
  },
  {
   "cell_type": "code",
   "execution_count": 7,
   "id": "bac8114c",
   "metadata": {},
   "outputs": [
    {
     "name": "stdout",
     "output_type": "stream",
     "text": [
      "1. Quality of Service/Product: If the quality of your service or product doesn't meet customer expectations or if it drops over time, they are likely to terminate their subscriptions.\n",
      "\n",
      "2. Price: If your prices are considered high compared to the value provided\n"
     ]
    }
   ],
   "source": [
    "question = \"구독 서비스에서 고객 이탈에 영향을 미치는 주요 요인은?\"\n",
    "\n",
    "response = client.chat.completions.create(\n",
    "  model = \"gpt-4\",\n",
    "  messages= [{'role': 'user', 'content': question}],\n",
    "  max_tokens=50\n",
    ")\n",
    "print(response.choices[0].message.content)"
   ]
  },
  {
   "cell_type": "code",
   "execution_count": 10,
   "id": "aa5fb541",
   "metadata": {},
   "outputs": [
    {
     "name": "stdout",
     "output_type": "stream",
     "text": [
      "As an AI, I'm unable to analyze data or datasets without being provided with the input first. Please provide the data or specific details about the dataset.\n"
     ]
    }
   ],
   "source": [
    "import openai\n",
    "data = \"e:/data/Reviews.csv\"\n",
    "question = \"데이터의 감정 분포에 대한 요약을 제공해줘?\"\n",
    "\n",
    "def explore_data(data, question):\n",
    "    prompt = f\"Data: {data}\\nQuestion: {question}\"\n",
    "    response = client.chat.completions.create(\n",
    "        model = \"gpt-4\",\n",
    "        messages= [{'role': 'user', 'content': question}],\n",
    "        max_tokens=50\n",
    "        )\n",
    "    return response.choices[0].message.content\n",
    "\n",
    "result = explore_data(data, question)\n",
    "print(result)"
   ]
  },
  {
   "cell_type": "code",
   "execution_count": null,
   "id": "31608097",
   "metadata": {},
   "outputs": [],
   "source": []
  }
 ],
 "metadata": {
  "kernelspec": {
   "display_name": "openai_f",
   "language": "python",
   "name": "openai"
  },
  "language_info": {
   "codemirror_mode": {
    "name": "ipython",
    "version": 3
   },
   "file_extension": ".py",
   "mimetype": "text/x-python",
   "name": "python",
   "nbconvert_exporter": "python",
   "pygments_lexer": "ipython3",
   "version": "3.8.19"
  }
 },
 "nbformat": 4,
 "nbformat_minor": 5
}
